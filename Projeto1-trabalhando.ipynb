{
 "cells": [
  {
   "cell_type": "markdown",
   "metadata": {},
   "source": [
    "___\n",
    "# Ciência dos Dados - PROJETO 1"
   ]
  },
  {
   "cell_type": "markdown",
   "metadata": {},
   "source": [
    "## Rodrigo Crespo\n",
    "___"
   ]
  },
  {
   "cell_type": "markdown",
   "metadata": {},
   "source": [
    "## INTERNET NAS PLATAFORMAS"
   ]
  },
  {
   "cell_type": "markdown",
   "metadata": {},
   "source": [
    "___\n",
    "## Introdução\n",
    "\n",
    "Pergunta:\n",
    "Qual é o dispositivo mais utilizado em São Paulo e Rio de Janeiro para acessar a internet e qual tipo de conexão é mais utilizada em cada estado?\n",
    "\n"
   ]
  },
  {
   "cell_type": "markdown",
   "metadata": {},
   "source": [
    "___\n",
    "## Análise e Resultados"
   ]
  },
  {
   "cell_type": "code",
   "execution_count": 188,
   "metadata": {
    "collapsed": true
   },
   "outputs": [],
   "source": [
    "%matplotlib inline\n",
    "import pandas as pd\n",
    "import matplotlib.pyplot as plt\n",
    "import numpy as np\n",
    "import os\n",
    "# qual é o dispositivo mais utilizado em sao paulo para acessar a internet e qual tipo de coneccao é mais utilizada?\n"
   ]
  },
  {
   "cell_type": "code",
   "execution_count": 189,
   "metadata": {
    "collapsed": false
   },
   "outputs": [
    {
     "name": "stdout",
     "output_type": "stream",
     "text": [
      "Esperamos trabalhar no diretório\n",
      "C:\\Users\\rod_c\\Documents\\GitHub\\ciencia_dados\n"
     ]
    }
   ],
   "source": [
    "print('Esperamos trabalhar no diretório')\n",
    "print(os.getcwd())\n",
    "dados2015 = pd.read_csv('DOM2015.csv',sep=',')\n",
    "dados2015= pd.DataFrame(dados2015)"
   ]
  },
  {
   "cell_type": "code",
   "execution_count": 190,
   "metadata": {
    "collapsed": false
   },
   "outputs": [],
   "source": [
    "#DADOS DE 2015\n",
    "\n",
    "#Se usar o arquivo descompactado\n",
    "#pd.read_csv('DOM2015.csv',sep=',')\n",
    "dados_lido = dados2015.loc[:,['UF','V02323','V02324','V02325','V02326','V02327','V02424','V02425','V02426']]\n",
    "dados_lido= dados_lido[pd.notnull(dados_lido.UF)&       pd.notnull(dados_lido.V02323)&                        pd.notnull(dados_lido.V02324)&                        pd.notnull(dados_lido.V02325)&                        pd.notnull(dados_lido.V02326)&  pd.notnull(dados_lido.V02327)&  pd.notnull(dados_lido.V02424)&  pd.notnull(dados_lido.V02425)& pd.notnull(dados_lido.V02426)]\n",
    "dados_lido.to_csv('dados_prontos2015.csv')\n",
    "#Se usar o arquivo compactado como está no dropbox púbico\n",
    "#pd.read_csv('DOM2015csv.zip', compression='zip', header=0, sep=',', quotechar='\"')"
   ]
  },
  {
   "cell_type": "code",
   "execution_count": 191,
   "metadata": {
    "collapsed": false
   },
   "outputs": [],
   "source": [
    "#DADOS DE 2015\n",
    "\n",
    "\n",
    "dados_2015 = pd.read_csv('dados_prontos2015.csv',sep=',')\n",
    "dados_2015 = pd.DataFrame(dados_lido)\n",
    "dados_2015.UF = dados2015.UF.astype('category')\n",
    "dados_2015.V02323 = dados2015.V02323.astype('category')\n",
    "dados_2015.V02324 = dados2015.V02324.astype('category')\n",
    "dados_2015.V02325 = dados2015.V02325.astype('category')\n",
    "dados_2015.V02326 = dados2015.V02326.astype('category')\n",
    "dados_2015.V02327 = dados2015.V02327.astype('category')\n",
    "dados_2015.V02424 = dados2015.V02424.astype('category')\n",
    "dados_2015.V02425 = dados2015.V02425.astype('category')\n",
    "dados_2015.V02426 = dados2015.V02426.astype('category')\n",
    "\n",
    "\n",
    "dados_2015.UF.cat.categories = (\"Rondonia\",\"Acre\",\"Amazonas\",\"Roraima\", \\\n",
    "\"Pará\",\"Amapá\", \"Tocantins\", \"Maranhão\", \"Piauí\", \"Ceará\",\"Rio Grande do Norte\",\"Paraíba\", \\\n",
    "\"Pernambuco\",\"Alagoas\",\"Sergipe\",\"Bahia\",\"Minas Gerais\",\"Espírito Santo\",\"Rio de Janeiro\",\\\n",
    "\"São Paulo\",\"Paraná\",\"Santa Catarina\",\"Rio Grande do Sul\",\"Mato Grosso do Sul\",\"Mato Grosso\",\"Goiás\",\"Distrito Federal\")\n",
    "\n",
    "\n",
    "dados_2015.V02323.cat.categories = ('Sim','Não')\n",
    "dados_2015.V02324.cat.categories = ('Sim','Não')\n",
    "dados_2015.V02325.cat.categories = ('Sim','Não')\n",
    "dados_2015.V02326.cat.categories = ('Sim','Não')\n",
    "dados_2015.V02327.cat.categories = ('Sim','Não')\n",
    "dados_2015.V02424.cat.categories = ('Sim','Não')\n",
    "dados_2015.V02425.cat.categories = ('Sim','Não')\n",
    "dados_2015.V02426.cat.categories = ('Sim','Não')\n",
    "dados_2015.columns = ['UF','MICROCOMPUTADOR','CELULAR','TABLET','TV','OUTRO EQUIP','3G OU 4G','CONEXÃO DISCADA','BANDA LARGA']\n",
    "dados_15 =dados_2015[dados_2015.UF == 'São Paulo']\n",
    "#dados_15"
   ]
  },
  {
   "cell_type": "code",
   "execution_count": 192,
   "metadata": {
    "collapsed": false,
    "scrolled": true
   },
   "outputs": [
    {
     "data": {
      "text/html": [
       "<div>\n",
       "<style>\n",
       "    .dataframe thead tr:only-child th {\n",
       "        text-align: right;\n",
       "    }\n",
       "\n",
       "    .dataframe thead th {\n",
       "        text-align: left;\n",
       "    }\n",
       "\n",
       "    .dataframe tbody tr th {\n",
       "        vertical-align: top;\n",
       "    }\n",
       "</style>\n",
       "<table border=\"1\" class=\"dataframe\">\n",
       "  <thead>\n",
       "    <tr style=\"text-align: right;\">\n",
       "      <th></th>\n",
       "      <th>UF</th>\n",
       "      <th>MICROCOMPUTADOR</th>\n",
       "      <th>CELULAR</th>\n",
       "      <th>TABLET</th>\n",
       "      <th>TV</th>\n",
       "      <th>OUTRO EQUIP</th>\n",
       "      <th>3G OU 4G</th>\n",
       "      <th>CONEXÃO DISCADA</th>\n",
       "      <th>BANDA LARGA</th>\n",
       "    </tr>\n",
       "  </thead>\n",
       "  <tbody>\n",
       "    <tr>\n",
       "      <th>93285</th>\n",
       "      <td>São Paulo</td>\n",
       "      <td>Sim</td>\n",
       "      <td>Não</td>\n",
       "      <td>Não</td>\n",
       "      <td>Não</td>\n",
       "      <td>Não</td>\n",
       "      <td>Sim</td>\n",
       "      <td>Não</td>\n",
       "      <td>Sim</td>\n",
       "    </tr>\n",
       "    <tr>\n",
       "      <th>93289</th>\n",
       "      <td>São Paulo</td>\n",
       "      <td>Não</td>\n",
       "      <td>Sim</td>\n",
       "      <td>Não</td>\n",
       "      <td>Não</td>\n",
       "      <td>Não</td>\n",
       "      <td>Sim</td>\n",
       "      <td>Não</td>\n",
       "      <td>Não</td>\n",
       "    </tr>\n",
       "    <tr>\n",
       "      <th>93290</th>\n",
       "      <td>São Paulo</td>\n",
       "      <td>Sim</td>\n",
       "      <td>Sim</td>\n",
       "      <td>Não</td>\n",
       "      <td>Não</td>\n",
       "      <td>Não</td>\n",
       "      <td>Sim</td>\n",
       "      <td>Não</td>\n",
       "      <td>Sim</td>\n",
       "    </tr>\n",
       "    <tr>\n",
       "      <th>93291</th>\n",
       "      <td>São Paulo</td>\n",
       "      <td>Sim</td>\n",
       "      <td>Sim</td>\n",
       "      <td>Não</td>\n",
       "      <td>Não</td>\n",
       "      <td>Não</td>\n",
       "      <td>Sim</td>\n",
       "      <td>Não</td>\n",
       "      <td>Sim</td>\n",
       "    </tr>\n",
       "    <tr>\n",
       "      <th>93292</th>\n",
       "      <td>São Paulo</td>\n",
       "      <td>Sim</td>\n",
       "      <td>Sim</td>\n",
       "      <td>Não</td>\n",
       "      <td>Não</td>\n",
       "      <td>Não</td>\n",
       "      <td>Sim</td>\n",
       "      <td>Não</td>\n",
       "      <td>Sim</td>\n",
       "    </tr>\n",
       "  </tbody>\n",
       "</table>\n",
       "</div>"
      ],
      "text/plain": [
       "              UF MICROCOMPUTADOR CELULAR TABLET   TV OUTRO EQUIP 3G OU 4G  \\\n",
       "93285  São Paulo             Sim     Não    Não  Não         Não      Sim   \n",
       "93289  São Paulo             Não     Sim    Não  Não         Não      Sim   \n",
       "93290  São Paulo             Sim     Sim    Não  Não         Não      Sim   \n",
       "93291  São Paulo             Sim     Sim    Não  Não         Não      Sim   \n",
       "93292  São Paulo             Sim     Sim    Não  Não         Não      Sim   \n",
       "\n",
       "      CONEXÃO DISCADA BANDA LARGA  \n",
       "93285             Não         Sim  \n",
       "93289             Não         Não  \n",
       "93290             Não         Sim  \n",
       "93291             Não         Sim  \n",
       "93292             Não         Sim  "
      ]
     },
     "execution_count": 192,
     "metadata": {},
     "output_type": "execute_result"
    }
   ],
   "source": [
    "#DADOS DE 2014\n",
    "\n",
    "#lendo o arquivo grande do ano de 2014\n",
    "dados2014 = pd.read_csv('DOM2014.csv', sep=',')\n",
    "dados2014= pd.DataFrame(dados2014)\n",
    "dados_lido2014 = dados2014.loc[:,['UF','V02323','V02324','V02325','V02326','V02327','V02424','V02425','V02426']]\n",
    "dados_lido2014= dados_lido2014[pd.notnull(dados_lido2014.UF)&       pd.notnull(dados_lido2014.V02323)&                        pd.notnull(dados_lido2014.V02324)&                        pd.notnull(dados_lido2014.V02325)&                        pd.notnull(dados_lido2014.V02326)&  pd.notnull(dados_lido2014.V02327)&  pd.notnull(dados_lido2014.V02424)&  pd.notnull(dados_lido2014.V02425)& pd.notnull(dados_lido2014.V02426)]\n",
    "dados_lido2014.to_csv('dados_prontos2014.csv')\n",
    "#criando um novo arquivo para o ano de 2014\n",
    "dados_2014 = pd.read_csv('dados_prontos2014.csv',sep=',')\n",
    "dados_2014 = pd.DataFrame(dados_lido2014)\n",
    "\n",
    "\n",
    "dados_2014.UF = dados2014.UF.astype('category')\n",
    "dados_2014.V02323 = dados2014.V02323.astype('category')\n",
    "dados_2014.V02324 = dados2014.V02324.astype('category')\n",
    "dados_2014.V02325 = dados2014.V02325.astype('category')\n",
    "dados_2014.V02326 = dados2014.V02326.astype('category')\n",
    "dados_2014.V02327 = dados2014.V02327.astype('category')\n",
    "dados_2014.V02424 = dados2014.V02424.astype('category')\n",
    "dados_2014.V02425 = dados2014.V02425.astype('category')\n",
    "dados_2014.V02426 = dados2014.V02426.astype('category')\n",
    "\n",
    "\n",
    "dados_2014.UF.cat.categories = (\"Rondonia\",\"Acre\",\"Amazonas\",\"Roraima\", \\\n",
    "\"Pará\",\"Amapá\", \"Tocantins\", \"Maranhão\", \"Piauí\", \"Ceará\",\"Rio Grande do Norte\",\"Paraíba\", \\\n",
    "\"Pernambuco\",\"Alagoas\",\"Sergipe\",\"Bahia\",\"Minas Gerais\",\"Espírito Santo\",\"Rio de Janeiro\",\\\n",
    "\"São Paulo\",\"Paraná\",\"Santa Catarina\",\"Rio Grande do Sul\",\"Mato Grosso do Sul\",\"Mato Grosso\",\"Goiás\",\"Distrito Federal\")\n",
    "\n",
    "\n",
    "\n",
    "dados_2014.V02323.cat.categories = ('Sim','Não')\n",
    "dados_2014.V02324.cat.categories = ('Sim','Não')\n",
    "dados_2014.V02325.cat.categories = ('Sim','Não')\n",
    "dados_2014.V02326.cat.categories = ('Sim','Não')\n",
    "dados_2014.V02327.cat.categories = ('Sim','Não')\n",
    "dados_2014.V02424.cat.categories = ('Sim','Não')\n",
    "dados_2014.V02425.cat.categories = ('Sim','Não')\n",
    "dados_2014.V02426.cat.categories = ('Sim','Não')\n",
    "dados_2014.columns = ['UF','MICROCOMPUTADOR','CELULAR','TABLET','TV','OUTRO EQUIP','3G OU 4G','CONEXÃO DISCADA','BANDA LARGA']\n",
    "dados_14 =dados_2014[dados_2014.UF == 'São Paulo']\n",
    "dados_14.head()\n"
   ]
  },
  {
   "cell_type": "code",
   "execution_count": 245,
   "metadata": {
    "collapsed": false
   },
   "outputs": [],
   "source": [
    "#DADOS DE 2013\n",
    "\n",
    "#lendo o arquivo grande do ano de 2013\n",
    "dados2013 = pd.read_csv('DOM2013.csv', sep=',')\n",
    "dados2013= pd.DataFrame(dados2013)\n",
    "dados_lido2013 = dados2013.loc[:,['UF','V02323','V02324','V02325','V02326','V02327','V02424','V02425','V02426','V4621']]\n",
    "dados_lido2013= dados_lido2013[pd.notnull(dados_lido2013.UF)&       pd.notnull(dados_lido2013.V02323)&                        pd.notnull(dados_lido2013.V02324)&                        pd.notnull(dados_lido2013.V02325)&                        pd.notnull(dados_lido2013.V02326)&  pd.notnull(dados_lido2013.V02327)&  pd.notnull(dados_lido2013.V02424)&  pd.notnull(dados_lido2013.V02425)& pd.notnull(dados_lido2013.V02426) & pd.notnull(dados_lido2013.V4621)]\n",
    "dados_lido2013.to_csv('dados_prontos2013.csv')\n",
    "#criando um novo arquivo para o ano de 2014\n",
    "dados_2013 = pd.read_csv('dados_prontos2013.csv',sep=',')\n",
    "dados_2013 = pd.DataFrame(dados_lido2013)\n",
    "\n",
    "dados_2013.UF = dados2013.UF.astype('category')\n",
    "dados_2013.V02323 = dados2013.V02323.astype('category')\n",
    "dados_2013.V02324 = dados2013.V02324.astype('category')\n",
    "dados_2013.V02325 = dados2013.V02325.astype('category')\n",
    "dados_2013.V02326 = dados2013.V02326.astype('category')\n",
    "dados_2013.V02327 = dados2013.V02327.astype('category')\n",
    "dados_2013.V02424 = dados2013.V02424.astype('category')\n",
    "dados_2013.V02425 = dados2013.V02425.astype('category')\n",
    "dados_2013.V02426 = dados2013.V02426.astype('category')\n",
    "\n",
    "\n",
    "\n",
    "dados_2013.UF.cat.categories = (\"Rondonia\",\"Acre\",\"Amazonas\",\"Roraima\", \\\n",
    "\"Pará\",\"Amapá\", \"Tocantins\", \"Maranhão\", \"Piauí\", \"Ceará\",\"Rio Grande do Norte\",\"Paraíba\", \\\n",
    "\"Pernambuco\",\"Alagoas\",\"Sergipe\",\"Bahia\",\"Minas Gerais\",\"Espírito Santo\",\"Rio de Janeiro\",\\\n",
    "\"São Paulo\",\"Paraná\",\"Santa Catarina\",\"Rio Grande do Sul\",\"Mato Grosso do Sul\",\"Mato Grosso\",\"Goiás\",\"Distrito Federal\")\n",
    "\n",
    "\n",
    "\n",
    "dados_2013.V02323.cat.categories = ('Sim','Não')\n",
    "dados_2013.V02324.cat.categories = ('Sim','Não')\n",
    "dados_2013.V02325.cat.categories = ('Sim','Não')\n",
    "dados_2013.V02326.cat.categories = ('Sim','Não')\n",
    "dados_2013.V02327.cat.categories = ('Sim','Não')\n",
    "dados_2013.V02424.cat.categories = ('Sim','Não')\n",
    "dados_2013.V02425.cat.categories = ('Sim','Não')\n",
    "dados_2013.V02426.cat.categories = ('Sim','Não')\n",
    "\n",
    "\n",
    "dados_2013.columns = ['UF','MICROCOMPUTADOR','CELULAR','TABLET','TV','OUTRO_EQUIP','_3G_OU_4G','CONEXÃO_DISCADA','BANDA_LARGA','Renda_Domiciliar']\n",
    "\n",
    "dados_2013=dados_2013[dados_2013[\"Renda_Domiciliar\"]!= 999999999999.0]\n",
    "\n",
    "#dados_13 = dados_2013[dados_2013.UF == 'São Paulo']\n",
    "#dados_23 = dados_2013[dados_2013.UF == 'Rio de Janeiro']\n",
    "\n",
    "\n",
    "\n",
    "dados_13 =dados_2013[(dados_2013.UF == 'São Paulo') | (dados_2013.UF =='Rio de Janeiro')]\n",
    "#dados_2013\n",
    "renda_baixa = dados_13[dados_13.Renda_Domiciliar <= 700]\n",
    "renda_media = dados_13[(dados_13.Renda_Domiciliar >700) & (dados_13.Renda_Domiciliar < 3000)]\n",
    "renda_alta = dados_13[dados_13.Renda_Domiciliar > 3000]\n",
    "#dados_13.MICROCOMPUTADOR.value_counts()\n",
    "#dados_13.MICROCOMPUTADOR.value_counts()\n",
    "#dados_13.columns\n",
    "#tabela = pd.crosstab(dados_13.MICROCOMPUTADOR)\n",
    "#tabela\n",
    "\n",
    "\n",
    "#frequencia absoluta do microcomputador\n",
    "#only_rio_COMP = dados_2013.MICROCOMPUTADOR.value_counts()\n",
    "#only_rio_COMP.plot(kind='bar', color=('yellow','red'), legend=False)\n",
    "#plt.title('MICROCOMPUTADOR')\n",
    "\n",
    "\n",
    "\n",
    "#RENDA_cat = pd.cut(dados_13.Renda_Domiciliar, bins=100)\n",
    "#dados_13.Renda\n",
    "\n",
    "#dados_2013.MICROCOMPUTADOR.value_counts()\n",
    "#MICROCOMPUTADOR = pd.crosstab(dados_2013.MICROCOMPUTADOR, dados_2013.UF)\n",
    "#TABLET = pd.crosstab(dados_2013.TABLET, dados_2013.UF)\n",
    "#CELULAR = pd.crosstab(dados_2013.CELULAR, dados_2013.UF)\n",
    "#TV = pd.crosstab(dados_13.TV, dados_13.UF)\n",
    "#OE = pd.crosstab(dados_13.OUTRO_EQUIP, dados_13.UF)\n",
    "#GG = pd.crosstab(dados_13._3G_OU_4G, dados_13.UF)\n",
    "#CD = pd.crosstab(dados_13.CONEXÃO_DISCADA, dados_13.UF)\n",
    "#BL = pd.crosstab(dados_13.BANDA_LARGA, dados_13.UF)\n",
    "#MICROCOMPUTADOR"
   ]
  },
  {
   "cell_type": "code",
   "execution_count": 246,
   "metadata": {
    "collapsed": false
   },
   "outputs": [
    {
     "data": {
      "text/plain": [
       "<matplotlib.text.Text at 0x1fd95e4de10>"
      ]
     },
     "execution_count": 246,
     "metadata": {},
     "output_type": "execute_result"
    },
    {
     "data": {
      "image/png": "[encoded data removed]",
      "text/plain": [
       "<matplotlib.figure.Figure at 0x1fda02d2198>"
      ]
     },
     "metadata": {},
     "output_type": "display_data"
    }
   ],
   "source": [
    "#tabela\n",
    "faixa= range(10,15000,25)\n",
    "plot = dados_13.Renda_Domiciliar.plot.hist(bins=faixa,title='GRAFICO DE RENDA DOMICILIAR', figsize=(15, 6), alpha=1)\n",
    "plt.ylabel('Frequência absoluta')\n",
    "plt.xlabel('renda (em reais)')"
   ]
  },
  {
   "cell_type": "code",
   "execution_count": 281,
   "metadata": {
    "collapsed": false
   },
   "outputs": [
    {
     "data": {
      "text/plain": [
       "<matplotlib.text.Text at 0x1fda1514898>"
      ]
     },
     "execution_count": 281,
     "metadata": {},
     "output_type": "execute_result"
    },
    {
     "data": {
      "image/png": "[encoded data removed]",
      "text/plain": [
       "<matplotlib.figure.Figure at 0x1fd931b05f8>"
      ]
     },
     "metadata": {},
     "output_type": "display_data"
    },
    {
     "data": {
      "image/png": "[encoded data removed]",
      "text/plain": [
       "<matplotlib.figure.Figure at 0x1fda13b5e80>"
      ]
     },
     "metadata": {},
     "output_type": "display_data"
    }
   ],
   "source": [
    "#col_renda = pd.cut(dados_13.Renda_Domiciliar, bins=[0,1000,2000,3000,4000,9000,80000])\n",
    "#dados_13.loc[:,'Renda_domiciliar'] = col_renda\n",
    "\n",
    "\n",
    "CELULAR_1 = pd.crosstab(renda_baixa.CELULAR, renda_baixa.UF)\n",
    "CONEXÃO_DISCADA_1 = pd.crosstab(renda_baixa.CONEXÃO_DISCADA, renda_baixa.UF)\n",
    "_3G_OU_4G_1 = pd.crosstab(renda_baixa._3G_OU_4G, renda_baixa.UF)\n",
    "BANDA_LARGA_1 = pd.crosstab(renda_baixa.BANDA_LARGA, renda_baixa.UF)\n",
    "OUTRO_EQUIP_1 = pd.crosstab(renda_baixa.OUTRO_EQUIP, renda_baixa.UF)\n",
    "TV_1 = pd.crosstab(renda_baixa.TV, renda_baixa.UF)\n",
    "TABLET_1 = pd.crosstab(renda_baixa.TABLET, renda_baixa.UF)\n",
    "MICROCOMPUTADOR_1 = pd.crosstab(renda_baixa.MICROCOMPUTADOR, renda_baixa.UF)\n",
    "\n",
    "\n",
    "\n",
    "a = CELULAR_1.plot(kind='bar', color=('red','blue'), legend=True)\n",
    "plt.ylabel('Frequência absoluta de renda baixa')\n",
    "\n",
    "\n",
    "b = MICROCOMPUTADOR_1.plot(kind='bar', color=('red','blue'), legend=True)\n",
    "plt.ylabel('Frequência absoluta de renda baixa')\n",
    "\n",
    "\n",
    "#faixa= range(10,15000,25)\n",
    "#plot = renda_baixa.CELULAR.plot.hist(bins=faixa,title='GRAFICO DE RENDA BAIXA DOMICILIAR', figsize=(15, 6), alpha=1)\n",
    "#plt.ylabel('Frequência absoluta')\n",
    "#plt.xlabel('renda (em reais)')\n"
   ]
  },
  {
   "cell_type": "code",
   "execution_count": 275,
   "metadata": {
    "collapsed": false
   },
   "outputs": [
    {
     "data": {
      "image/png": "[encoded data removed]",
      "text/plain": [
       "<matplotlib.figure.Figure at 0x1fd9edc6208>"
      ]
     },
     "metadata": {},
     "output_type": "display_data"
    },
    {
     "data": {
      "image/png": "[encoded data removed]",
      "text/plain": [
       "<matplotlib.figure.Figure at 0x1fd9f550128>"
      ]
     },
     "metadata": {},
     "output_type": "display_data"
    },
    {
     "data": {
      "image/png": "[encoded data removed]",
      "text/plain": [
       "<matplotlib.figure.Figure at 0x1fd9f930a20>"
      ]
     },
     "metadata": {},
     "output_type": "display_data"
    },
    {
     "data": {
      "image/png": "[encoded data removed]",
      "text/plain": [
       "<matplotlib.figure.Figure at 0x1fda0a8bf98>"
      ]
     },
     "metadata": {},
     "output_type": "display_data"
    }
   ],
   "source": [
    "\n",
    "fig = plt.figure(figsize=(15,5))\n",
    "\n",
    "plt.subplot(131)\n",
    "plot = MICROCOMPUTADOR_1.plot.hist(bins=15,color=('yellow'), legend=True)\n",
    "plt.axis([0, 1000, 0, 2000])\n",
    "\n",
    "plt.subplot(132)\n",
    "plot = CELULAR_1.plot.hist(bins=15, color=('blue','yellow'), legend=True)\n",
    "plt.axis([0, 1000, 0, 2000])\n",
    "\n",
    "plt.subplot(133)\n",
    "plot = TABLET_1.plot.hist(bins=15, color=('red','yellow'), legend=True, normed=1)\n",
    "plt.axis([0, 1000, 0, 2000])\n",
    "\n",
    "plt.tight_layout()\n",
    "#plt.show()"
   ]
  },
  {
   "cell_type": "code",
   "execution_count": null,
   "metadata": {
    "collapsed": false
   },
   "outputs": [],
   "source": []
  },
  {
   "cell_type": "code",
   "execution_count": null,
   "metadata": {
    "collapsed": false
   },
   "outputs": [],
   "source": []
  },
  {
   "cell_type": "code",
   "execution_count": null,
   "metadata": {
    "collapsed": true
   },
   "outputs": [],
   "source": []
  },
  {
   "cell_type": "markdown",
   "metadata": {},
   "source": [
    "___\n",
    "## Conclusão "
   ]
  },
  {
   "cell_type": "markdown",
   "metadata": {
    "collapsed": true
   },
   "source": [
    "Descreva aqui suas conclusões!"
   ]
  },
  {
   "cell_type": "code",
   "execution_count": null,
   "metadata": {
    "collapsed": true
   },
   "outputs": [],
   "source": []
  }
 ],
 "metadata": {
  "anaconda-cloud": {},
  "kernelspec": {
   "display_name": "Python 3",
   "language": "python",
   "name": "python3"
  },
  "language_info": {
   "codemirror_mode": {
    "name": "ipython",
    "version": 3
   },
   "file_extension": ".py",
   "mimetype": "text/x-python",
   "name": "python",
   "nbconvert_exporter": "python",
   "pygments_lexer": "ipython3",
   "version": "3.6.0"
  }
 },
 "nbformat": 4,
 "nbformat_minor": 1
}
